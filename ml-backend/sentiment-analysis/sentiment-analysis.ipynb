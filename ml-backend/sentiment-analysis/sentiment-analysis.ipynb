{
 "cells": [
  {
   "cell_type": "code",
   "execution_count": null,
   "metadata": {
    "execution": {
     "iopub.execute_input": "2024-11-11T14:11:53.225023Z",
     "iopub.status.busy": "2024-11-11T14:11:53.224311Z",
     "iopub.status.idle": "2024-11-11T14:11:53.592812Z",
     "shell.execute_reply": "2024-11-11T14:11:53.591918Z",
     "shell.execute_reply.started": "2024-11-11T14:11:53.224980Z"
    },
    "trusted": true
   },
   "outputs": [],
   "source": [
    "# This Python 3 environment comes with many helpful analytics libraries installed\n",
    "# It is defined by the kaggle/python Docker image: https://github.com/kaggle/docker-python\n",
    "# For example, here's several helpful packages to load\n",
    "\n",
    "import numpy as np  # linear algebra\n",
    "import pandas as pd  # data processing, CSV file I/O (e.g. pd.read_csv)\n",
    "\n",
    "# Input data files are available in the read-only \"../input/\" directory\n",
    "# For example, running this (by clicking run or pressing Shift+Enter) will list all files under the input directory\n",
    "\n",
    "import os\n",
    "\n",
    "for dirname, _, filenames in os.walk(\"/kaggle/input\"):\n",
    "    for filename in filenames:\n",
    "        print(os.path.join(dirname, filename))\n",
    "\n",
    "# You can write up to 20GB to the current directory (/kaggle/working/) that gets preserved as output when you create a version using \"Save & Run All\"\n",
    "# You can also write temporary files to /kaggle/temp/, but they won't be saved outside of the current session"
   ]
  },
  {
   "cell_type": "code",
   "execution_count": null,
   "metadata": {
    "colab": {
     "base_uri": "https://localhost:8080/"
    },
    "execution": {
     "iopub.execute_input": "2024-11-11T14:11:53.595489Z",
     "iopub.status.busy": "2024-11-11T14:11:53.594682Z",
     "iopub.status.idle": "2024-11-11T14:12:21.143422Z",
     "shell.execute_reply": "2024-11-11T14:12:21.142238Z",
     "shell.execute_reply.started": "2024-11-11T14:11:53.595442Z"
    },
    "executionInfo": {
     "elapsed": 6,
     "status": "ok",
     "timestamp": 1730734230385,
     "user": {
      "displayName": "Kazi Safin Arafat 2211778642",
      "userId": "07828197710268248096"
     },
     "user_tz": -360
    },
    "id": "IfxKZtDVuvck",
    "outputId": "c29a6d6b-3ce8-4302-a25d-ff364e0193da",
    "trusted": true
   },
   "outputs": [],
   "source": [
    "import pandas as pd\n",
    "import numpy as np\n",
    "import matplotlib.pyplot as plt\n",
    "plt.style.use(\"ggplot\")\n",
    "\n",
    "import warnings\n",
    "from warnings import filterwarnings\n",
    "\n",
    "filterwarnings(\"ignore\")\n",
    "import re\n",
    "import string\n",
    "!pip install contractions\n",
    "import contractions\n",
    "import string\n",
    "\n",
    "\n",
    "from tensorflow.keras.preprocessing.text import Tokenizer, text_to_word_sequence\n",
    "from tensorflow.keras.preprocessing.sequence import pad_sequences\n",
    "\n",
    "from keras.models import Model\n",
    "from keras.layers import Embedding, Input\n",
    "from tensorflow.keras.layers import Bidirectional\n",
    "from tensorflow.keras.models import Sequential\n",
    "from tensorflow.keras.layers import Embedding, Bidirectional, LSTM, Dense, Dropout\n",
    "from tensorflow.keras.optimizers import Adam\n",
    "from tensorflow.keras.callbacks import ReduceLROnPlateau\n",
    "\n",
    "\n",
    "import nltk\n",
    "from nltk.stem import WordNetLemmatizer\n",
    "from nltk.corpus import stopwords\n",
    "from nltk.tokenize import word_tokenize\n",
    "from nltk.stem import WordNetLemmatizer\n",
    "import string\n",
    "\n",
    "nltk.download(\"wordnet2022\")\n",
    "! cp -rf /usr/share/nltk_data/corpora/wordnet2022 /usr/share/nltk_data/corpora/wordnet \n",
    "\n",
    "\n",
    "\n",
    "\n",
    "\n"
   ]
  },
  {
   "cell_type": "code",
   "execution_count": null,
   "metadata": {
    "execution": {
     "iopub.execute_input": "2024-11-11T14:12:21.146105Z",
     "iopub.status.busy": "2024-11-11T14:12:21.145163Z",
     "iopub.status.idle": "2024-11-11T14:12:25.369323Z",
     "shell.execute_reply": "2024-11-11T14:12:25.368164Z",
     "shell.execute_reply.started": "2024-11-11T14:12:21.146056Z"
    },
    "trusted": true
   },
   "outputs": [],
   "source": [
    "df = pd.read_json(\n",
    "    \"/kaggle/input/cell-phones-and-accessories-5/Cell_Phones_and_Accessories_5.json\",\n",
    "    lines=True,\n",
    ")\n",
    "\n",
    "print(len(df))"
   ]
  },
  {
   "cell_type": "code",
   "execution_count": null,
   "metadata": {
    "execution": {
     "iopub.execute_input": "2024-11-11T14:12:25.372784Z",
     "iopub.status.busy": "2024-11-11T14:12:25.372086Z",
     "iopub.status.idle": "2024-11-11T14:12:25.445058Z",
     "shell.execute_reply": "2024-11-11T14:12:25.444214Z",
     "shell.execute_reply.started": "2024-11-11T14:12:25.372738Z"
    },
    "trusted": true
   },
   "outputs": [],
   "source": [
    "SetSize = 10_000\n",
    "pos_df = df[df[\"overall\"] > 3].head(SetSize + 400)[[\"reviewText\", \"overall\"]]\n",
    "neg_df = df[df[\"overall\"] < 3].head(SetSize + 600)[[\"reviewText\", \"overall\"]]"
   ]
  },
  {
   "cell_type": "code",
   "execution_count": null,
   "metadata": {
    "execution": {
     "iopub.execute_input": "2024-11-11T14:12:25.446378Z",
     "iopub.status.busy": "2024-11-11T14:12:25.446094Z",
     "iopub.status.idle": "2024-11-11T14:12:25.542639Z",
     "shell.execute_reply": "2024-11-11T14:12:25.541766Z",
     "shell.execute_reply.started": "2024-11-11T14:12:25.446333Z"
    },
    "trusted": true
   },
   "outputs": [],
   "source": [
    "pos_df[\"overall\"] = 1\n",
    "neg_df[\"overall\"] = 0\n",
    "\n",
    "\n",
    "df = (\n",
    "    pd.concat([pos_df, neg_df], axis=0, ignore_index=True)\n",
    "    .sample(frac=1)\n",
    "    .reset_index(drop=True)\n",
    ")\n",
    "print(len(pos_df), len(neg_df))"
   ]
  },
  {
   "cell_type": "markdown",
   "metadata": {
    "id": "vgHDtz3Huvcl"
   },
   "source": [
    "## Loading and Filtering Columns\n"
   ]
  },
  {
   "cell_type": "code",
   "execution_count": null,
   "metadata": {
    "colab": {
     "base_uri": "https://localhost:8080/",
     "height": 423
    },
    "execution": {
     "iopub.execute_input": "2024-11-11T14:12:25.544230Z",
     "iopub.status.busy": "2024-11-11T14:12:25.543927Z",
     "iopub.status.idle": "2024-11-11T14:12:25.550463Z",
     "shell.execute_reply": "2024-11-11T14:12:25.549577Z",
     "shell.execute_reply.started": "2024-11-11T14:12:25.544197Z"
    },
    "executionInfo": {
     "elapsed": 608,
     "status": "ok",
     "timestamp": 1730734230988,
     "user": {
      "displayName": "Kazi Safin Arafat 2211778642",
      "userId": "07828197710268248096"
     },
     "user_tz": -360
    },
    "id": "w5K3ZNKouvcn",
    "outputId": "d11270af-96f8-4b9c-e77b-bf57af1200d0",
    "trusted": true
   },
   "outputs": [],
   "source": [
    "df = df[[\"reviewText\", \"overall\"]]\n",
    "print(len(df))"
   ]
  },
  {
   "cell_type": "code",
   "execution_count": null,
   "metadata": {
    "execution": {
     "iopub.execute_input": "2024-11-11T14:12:25.552103Z",
     "iopub.status.busy": "2024-11-11T14:12:25.551591Z",
     "iopub.status.idle": "2024-11-11T14:12:25.585770Z",
     "shell.execute_reply": "2024-11-11T14:12:25.584961Z",
     "shell.execute_reply.started": "2024-11-11T14:12:25.552068Z"
    },
    "id": "zuq9lSMvuvcn",
    "trusted": true
   },
   "outputs": [],
   "source": [
    "def defineSentiment(rating):\n",
    "    if rating == 1:\n",
    "        return \"Positive\"\n",
    "    else:\n",
    "        return \"Negative\"\n",
    "\n",
    "\n",
    "def defineTextLen(text):\n",
    "    if isinstance(text, str):\n",
    "        return len(text)\n",
    "    else:\n",
    "        return 0\n",
    "\n",
    "\n",
    "df.loc[:, \"sentiment\"] = df[\"overall\"].apply(defineSentiment)\n",
    "\n",
    "df.loc[:, \"textLen\"] = df[\"reviewText\"].apply(defineTextLen)"
   ]
  },
  {
   "cell_type": "code",
   "execution_count": null,
   "metadata": {
    "colab": {
     "base_uri": "https://localhost:8080/"
    },
    "execution": {
     "iopub.execute_input": "2024-11-11T14:12:25.587291Z",
     "iopub.status.busy": "2024-11-11T14:12:25.586926Z",
     "iopub.status.idle": "2024-11-11T14:12:25.605345Z",
     "shell.execute_reply": "2024-11-11T14:12:25.604515Z",
     "shell.execute_reply.started": "2024-11-11T14:12:25.587249Z"
    },
    "executionInfo": {
     "elapsed": 7,
     "status": "ok",
     "timestamp": 1730734230988,
     "user": {
      "displayName": "Kazi Safin Arafat 2211778642",
      "userId": "07828197710268248096"
     },
     "user_tz": -360
    },
    "id": "I4xn7Snxuvco",
    "outputId": "bfc17462-bc4e-4353-cf24-0295637cbc8b",
    "trusted": true
   },
   "outputs": [],
   "source": [
    "df = df[df[\"textLen\"] > 2]\n",
    "df.reset_index(drop=True, inplace=True)\n",
    "\n",
    "print(df.describe())"
   ]
  },
  {
   "cell_type": "code",
   "execution_count": null,
   "metadata": {
    "colab": {
     "base_uri": "https://localhost:8080/",
     "height": 429
    },
    "execution": {
     "iopub.execute_input": "2024-11-11T14:12:25.607225Z",
     "iopub.status.busy": "2024-11-11T14:12:25.606607Z",
     "iopub.status.idle": "2024-11-11T14:12:25.786484Z",
     "shell.execute_reply": "2024-11-11T14:12:25.785305Z",
     "shell.execute_reply.started": "2024-11-11T14:12:25.607181Z"
    },
    "executionInfo": {
     "elapsed": 892,
     "status": "ok",
     "timestamp": 1730734231874,
     "user": {
      "displayName": "Kazi Safin Arafat 2211778642",
      "userId": "07828197710268248096"
     },
     "user_tz": -360
    },
    "id": "rzjfuwW4uvcp",
    "outputId": "e4c0fa8b-0112-4bfb-a98c-ac5b9339dbf7",
    "trusted": true
   },
   "outputs": [],
   "source": [
    "px = (\n",
    "    df[\"sentiment\"]\n",
    "    .value_counts()\n",
    "    .sort_index()\n",
    "    .plot(\n",
    "        kind=\"pie\",\n",
    "        title=\"Sentiment Pie Distribution\",\n",
    "        autopct=\"%1.1f%%\",\n",
    "        ylabel=\"\",\n",
    "    )\n",
    ")\n",
    "\n",
    "plt.show()"
   ]
  },
  {
   "cell_type": "code",
   "execution_count": null,
   "metadata": {
    "colab": {
     "base_uri": "https://localhost:8080/",
     "height": 472
    },
    "execution": {
     "iopub.execute_input": "2024-11-11T14:12:25.793922Z",
     "iopub.status.busy": "2024-11-11T14:12:25.793029Z",
     "iopub.status.idle": "2024-11-11T14:12:26.037936Z",
     "shell.execute_reply": "2024-11-11T14:12:26.037027Z",
     "shell.execute_reply.started": "2024-11-11T14:12:25.793858Z"
    },
    "executionInfo": {
     "elapsed": 8,
     "status": "ok",
     "timestamp": 1730734231874,
     "user": {
      "displayName": "Kazi Safin Arafat 2211778642",
      "userId": "07828197710268248096"
     },
     "user_tz": -360
    },
    "id": "VnlekBzkuvcq",
    "outputId": "cf36884a-ea60-4eb8-ee51-ee7e669fd10f",
    "trusted": true
   },
   "outputs": [],
   "source": [
    "ax = df[\"overall\"].value_counts().sort_index().plot(kind=\"bar\", title=\"Review Scores\")\n",
    "ax.set_xlabel(\"Review Stars\")\n",
    "plt.show()"
   ]
  },
  {
   "cell_type": "markdown",
   "metadata": {
    "id": "PJ98Y3seuvcr"
   },
   "source": [
    "### Removing Number, Fullstop and turning Uppercase to lowercase\n"
   ]
  },
  {
   "cell_type": "markdown",
   "metadata": {
    "id": "NZfHDngruvcr"
   },
   "source": [
    "## Applying Contraction\n"
   ]
  },
  {
   "cell_type": "code",
   "execution_count": null,
   "metadata": {
    "execution": {
     "iopub.execute_input": "2024-11-11T14:12:26.039171Z",
     "iopub.status.busy": "2024-11-11T14:12:26.038905Z",
     "iopub.status.idle": "2024-11-11T14:12:27.203071Z",
     "shell.execute_reply": "2024-11-11T14:12:27.202091Z",
     "shell.execute_reply.started": "2024-11-11T14:12:26.039141Z"
    },
    "id": "hc6YVU08uvcs",
    "trusted": true
   },
   "outputs": [],
   "source": [
    "def contract(text):\n",
    "    if isinstance(text, str):\n",
    "        return contractions.fix(text)\n",
    "    else:\n",
    "        return \"Bad String\"\n",
    "\n",
    "\n",
    "df[\"reviewText\"] = df[\"reviewText\"].apply(contract)\n",
    "\n",
    "\n",
    "df_new = df.copy()"
   ]
  },
  {
   "cell_type": "code",
   "execution_count": null,
   "metadata": {
    "execution": {
     "iopub.execute_input": "2024-11-11T14:12:27.204616Z",
     "iopub.status.busy": "2024-11-11T14:12:27.204302Z",
     "iopub.status.idle": "2024-11-11T14:12:52.461344Z",
     "shell.execute_reply": "2024-11-11T14:12:52.460528Z",
     "shell.execute_reply.started": "2024-11-11T14:12:27.204584Z"
    },
    "id": "PS57YpQ5uvcs",
    "trusted": true
   },
   "outputs": [],
   "source": [
    "stop_words = set(stopwords.words(\"english\"))\n",
    "lemmatizer = WordNetLemmatizer()\n",
    "\n",
    "\n",
    "def preprocess_text(text):\n",
    "    text = text.lower()  # Convert to lowercase\n",
    "    text = \"\".join(\n",
    "        [char for char in text if char not in string.punctuation]\n",
    "    )  # Remove punctuation\n",
    "    words = word_tokenize(text)  # Tokenize\n",
    "    words = [\n",
    "        lemmatizer.lemmatize(word) for word in words if word not in stop_words\n",
    "    ]  # Lemmatization and stopword removal\n",
    "    return \" \".join(words)\n",
    "\n",
    "\n",
    "df_new[\"reviewText\"] = df_new[\"reviewText\"].apply(preprocess_text)"
   ]
  },
  {
   "cell_type": "code",
   "execution_count": null,
   "metadata": {
    "colab": {
     "base_uri": "https://localhost:8080/",
     "height": 597
    },
    "execution": {
     "iopub.execute_input": "2024-11-11T14:12:52.463159Z",
     "iopub.status.busy": "2024-11-11T14:12:52.462651Z",
     "iopub.status.idle": "2024-11-11T14:12:54.172636Z",
     "shell.execute_reply": "2024-11-11T14:12:54.171737Z",
     "shell.execute_reply.started": "2024-11-11T14:12:52.463111Z"
    },
    "executionInfo": {
     "elapsed": 5,
     "status": "ok",
     "timestamp": 1730734232767,
     "user": {
      "displayName": "Kazi Safin Arafat 2211778642",
      "userId": "07828197710268248096"
     },
     "user_tz": -360
    },
    "id": "NInUVi_Suvcs",
    "outputId": "77cbc174-85bf-424e-e29d-f74660e64bd4",
    "trusted": true
   },
   "outputs": [],
   "source": [
    "def tokenize(text):\n",
    "    tokens = Tokenizer()\n",
    "    tokens.fit_on_texts(text)\n",
    "    return tokens.texts_to_sequences(text), tokens.word_index\n",
    "\n",
    "\n",
    "corpus = df_new[\"reviewText\"].tolist()\n",
    "\n",
    "\n",
    "df_new[\"seq\"], vocab_size = tokenize(corpus)\n",
    "\n",
    "print(df_new[\"seq\"])"
   ]
  },
  {
   "cell_type": "code",
   "execution_count": null,
   "metadata": {
    "execution": {
     "iopub.execute_input": "2024-11-11T14:12:54.174152Z",
     "iopub.status.busy": "2024-11-11T14:12:54.173833Z",
     "iopub.status.idle": "2024-11-11T14:12:54.387075Z",
     "shell.execute_reply": "2024-11-11T14:12:54.386119Z",
     "shell.execute_reply.started": "2024-11-11T14:12:54.174118Z"
    },
    "trusted": true
   },
   "outputs": [],
   "source": [
    "seqlen = [len(seq) for seq in df_new[\"seq\"]]\n",
    "plt.plot(seqlen)\n",
    "plt.xlabel(\"Index\")\n",
    "plt.ylabel(\"Length\")\n",
    "plt.show()\n",
    "pd.Series(seqlen).describe()"
   ]
  },
  {
   "cell_type": "code",
   "execution_count": null,
   "metadata": {
    "execution": {
     "iopub.execute_input": "2024-11-11T14:12:54.388592Z",
     "iopub.status.busy": "2024-11-11T14:12:54.388314Z",
     "iopub.status.idle": "2024-11-11T14:12:54.395797Z",
     "shell.execute_reply": "2024-11-11T14:12:54.394888Z",
     "shell.execute_reply.started": "2024-11-11T14:12:54.388560Z"
    },
    "trusted": true
   },
   "outputs": [],
   "source": [
    "maxlen = int(np.percentile(seqlen, 90)) + 1\n",
    "print(maxlen)"
   ]
  },
  {
   "cell_type": "code",
   "execution_count": null,
   "metadata": {
    "execution": {
     "iopub.execute_input": "2024-11-11T14:12:54.397190Z",
     "iopub.status.busy": "2024-11-11T14:12:54.396857Z",
     "iopub.status.idle": "2024-11-11T14:12:54.424702Z",
     "shell.execute_reply": "2024-11-11T14:12:54.423887Z",
     "shell.execute_reply.started": "2024-11-11T14:12:54.397158Z"
    },
    "trusted": true
   },
   "outputs": [],
   "source": [
    "df_new = df_new[df_new[\"seq\"].apply(len) <= maxlen]\n",
    "len(df_new)"
   ]
  },
  {
   "cell_type": "code",
   "execution_count": null,
   "metadata": {
    "colab": {
     "base_uri": "https://localhost:8080/"
    },
    "execution": {
     "iopub.execute_input": "2024-11-11T14:12:54.427947Z",
     "iopub.status.busy": "2024-11-11T14:12:54.425857Z",
     "iopub.status.idle": "2024-11-11T14:12:54.550281Z",
     "shell.execute_reply": "2024-11-11T14:12:54.549288Z",
     "shell.execute_reply.started": "2024-11-11T14:12:54.427900Z"
    },
    "executionInfo": {
     "elapsed": 9,
     "status": "ok",
     "timestamp": 1730734233474,
     "user": {
      "displayName": "Kazi Safin Arafat 2211778642",
      "userId": "07828197710268248096"
     },
     "user_tz": -360
    },
    "id": "KG1GRsezuvct",
    "outputId": "24ffc98b-c02b-4f4d-a933-a35cb632367f",
    "trusted": true
   },
   "outputs": [],
   "source": [
    "sequences = df_new[\"seq\"].tolist()\n",
    "\n",
    "padded_X = pad_sequences(\n",
    "    sequences,\n",
    "    maxlen=maxlen,\n",
    "    dtype=\"int32\",\n",
    "    padding=\"post\",\n",
    "    truncating=\"post\",\n",
    "    value=0.0,\n",
    ")\n",
    "\n",
    "len(padded_X)"
   ]
  },
  {
   "cell_type": "code",
   "execution_count": null,
   "metadata": {
    "execution": {
     "iopub.execute_input": "2024-11-11T14:12:54.552237Z",
     "iopub.status.busy": "2024-11-11T14:12:54.551782Z",
     "iopub.status.idle": "2024-11-11T14:12:54.559094Z",
     "shell.execute_reply": "2024-11-11T14:12:54.558224Z",
     "shell.execute_reply.started": "2024-11-11T14:12:54.552181Z"
    },
    "trusted": true
   },
   "outputs": [],
   "source": [
    "len(df_new[\"overall\"])"
   ]
  },
  {
   "cell_type": "code",
   "execution_count": null,
   "metadata": {
    "execution": {
     "iopub.execute_input": "2024-11-11T14:12:54.560528Z",
     "iopub.status.busy": "2024-11-11T14:12:54.560222Z",
     "iopub.status.idle": "2024-11-11T14:12:54.707081Z",
     "shell.execute_reply": "2024-11-11T14:12:54.706104Z",
     "shell.execute_reply.started": "2024-11-11T14:12:54.560478Z"
    },
    "id": "oZS-qZwRuvct",
    "trusted": true
   },
   "outputs": [],
   "source": [
    "y = df_new[\"overall\"]\n",
    "\n",
    "\n",
    "y = np.array(y)\n",
    "split_index = (len(y) * 0.8).__ceil__()\n",
    "\n",
    "y_train = y[:split_index]\n",
    "y_test = y[split_index:]\n",
    "\n",
    "X_train = padded_X[:split_index]\n",
    "X_test = padded_X[split_index:]\n",
    "\n",
    "print(f\"Training Size: {len(X_train)}\")\n",
    "print(f\"Test Size: X: {len(X_test)} y: {len(y_test)}\")"
   ]
  },
  {
   "cell_type": "code",
   "execution_count": null,
   "metadata": {
    "execution": {
     "iopub.execute_input": "2024-11-11T14:12:54.708538Z",
     "iopub.status.busy": "2024-11-11T14:12:54.708265Z",
     "iopub.status.idle": "2024-11-11T14:12:54.769060Z",
     "shell.execute_reply": "2024-11-11T14:12:54.767761Z",
     "shell.execute_reply.started": "2024-11-11T14:12:54.708508Z"
    },
    "trusted": true
   },
   "outputs": [],
   "source": [
    "print(\"Vocab Size \", len(vocab_size))\n",
    "print(\"Max Len \", maxlen)"
   ]
  },
  {
   "cell_type": "code",
   "execution_count": null,
   "metadata": {
    "execution": {
     "iopub.execute_input": "2024-11-11T14:12:54.770605Z",
     "iopub.status.busy": "2024-11-11T14:12:54.770285Z",
     "iopub.status.idle": "2024-11-11T14:12:55.531308Z",
     "shell.execute_reply": "2024-11-11T14:12:55.530504Z",
     "shell.execute_reply.started": "2024-11-11T14:12:54.770573Z"
    },
    "trusted": true
   },
   "outputs": [],
   "source": [
    "model = Sequential()\n",
    "model.add(\n",
    "    Embedding(input_dim=(len(vocab_size) + 1), output_dim=300, input_length=maxlen)\n",
    ")\n",
    "model.add(Bidirectional(LSTM(512, return_sequences=True)))\n",
    "model.add(Dropout(0.5))  # Dropout to prevent overfitting\n",
    "model.add(Bidirectional(LSTM(256)))\n",
    "model.add(Dropout(0.5))\n",
    "model.add(Dense(2, activation=\"softmax\"))\n",
    "optimizer = Adam(learning_rate=0.0001)\n",
    "model.compile(\n",
    "    optimizer=optimizer, loss=\"sparse_categorical_crossentropy\", metrics=[\"accuracy\"]\n",
    ")\n",
    "lr_scheduler = ReduceLROnPlateau(\n",
    "    monitor=\"val_loss\", patience=2, factor=0.5, min_lr=1e-6\n",
    ")\n",
    "model.summary()"
   ]
  },
  {
   "cell_type": "code",
   "execution_count": null,
   "metadata": {
    "execution": {
     "iopub.execute_input": "2024-11-11T14:12:55.532579Z",
     "iopub.status.busy": "2024-11-11T14:12:55.532302Z",
     "iopub.status.idle": "2024-11-11T14:21:40.862487Z",
     "shell.execute_reply": "2024-11-11T14:21:40.861565Z",
     "shell.execute_reply.started": "2024-11-11T14:12:55.532549Z"
    },
    "trusted": true
   },
   "outputs": [],
   "source": [
    "model.fit(\n",
    "    X_train,\n",
    "    y_train,\n",
    "    batch_size=32,\n",
    "    epochs=20,\n",
    "    validation_split=0.2,\n",
    "    callbacks=[lr_scheduler],\n",
    ")"
   ]
  },
  {
   "cell_type": "code",
   "execution_count": null,
   "metadata": {
    "colab": {
     "base_uri": "https://localhost:8080/"
    },
    "execution": {
     "iopub.execute_input": "2024-11-11T14:21:40.864408Z",
     "iopub.status.busy": "2024-11-11T14:21:40.863907Z",
     "iopub.status.idle": "2024-11-11T14:21:44.270826Z",
     "shell.execute_reply": "2024-11-11T14:21:44.269846Z",
     "shell.execute_reply.started": "2024-11-11T14:21:40.864358Z"
    },
    "executionInfo": {
     "elapsed": 21266,
     "status": "ok",
     "timestamp": 1730735060698,
     "user": {
      "displayName": "Kazi Safin Arafat 2211778642",
      "userId": "07828197710268248096"
     },
     "user_tz": -360
    },
    "id": "R5Qu9-FFuvct",
    "outputId": "2e47312a-269d-4e2a-d9b3-e2a573ef1552",
    "trusted": true
   },
   "outputs": [],
   "source": [
    "pred = model.predict(X_test)\n",
    "pred"
   ]
  },
  {
   "cell_type": "code",
   "execution_count": null,
   "metadata": {
    "colab": {
     "base_uri": "https://localhost:8080/"
    },
    "execution": {
     "iopub.execute_input": "2024-11-11T14:21:44.272429Z",
     "iopub.status.busy": "2024-11-11T14:21:44.272105Z",
     "iopub.status.idle": "2024-11-11T14:21:44.277959Z",
     "shell.execute_reply": "2024-11-11T14:21:44.277069Z",
     "shell.execute_reply.started": "2024-11-11T14:21:44.272396Z"
    },
    "executionInfo": {
     "elapsed": 614,
     "status": "ok",
     "timestamp": 1730737868261,
     "user": {
      "displayName": "Kazi Safin Arafat 2211778642",
      "userId": "07828197710268248096"
     },
     "user_tz": -360
    },
    "id": "mi5w7bPt2V-Z",
    "outputId": "87950d9b-fe81-4f5c-e074-4f94ce07a810",
    "trusted": true
   },
   "outputs": [],
   "source": [
    "# pd.DataFrame({\"pred\":pred,\"y_test\":y_test})\n",
    "y_pred = np.argmax(pred, axis=1)\n",
    "print(y_pred)"
   ]
  },
  {
   "cell_type": "code",
   "execution_count": null,
   "metadata": {
    "colab": {
     "base_uri": "https://localhost:8080/"
    },
    "execution": {
     "iopub.execute_input": "2024-11-11T14:21:44.279640Z",
     "iopub.status.busy": "2024-11-11T14:21:44.279313Z",
     "iopub.status.idle": "2024-11-11T14:21:44.291114Z",
     "shell.execute_reply": "2024-11-11T14:21:44.290204Z",
     "shell.execute_reply.started": "2024-11-11T14:21:44.279592Z"
    },
    "executionInfo": {
     "elapsed": 611,
     "status": "ok",
     "timestamp": 1730738436704,
     "user": {
      "displayName": "Kazi Safin Arafat 2211778642",
      "userId": "07828197710268248096"
     },
     "user_tz": -360
    },
    "id": "HItBLrXdDKYm",
    "outputId": "bf9edce0-cf41-4b11-c988-061c2e11acb8",
    "trusted": true
   },
   "outputs": [],
   "source": [
    "hits = np.sum(y_pred == y_test)\n",
    "misses = np.sum(y_pred != y_test)\n",
    "\n",
    "print(f\"Total Samples: {len(y_test)}\")\n",
    "print(f\"Hits (Correct Predictions): {hits}\")\n",
    "print(f\"Misses (Incorrect Predictions): {misses}\")\n",
    "print(f\"Accuracy: {hits / len(y_test) * 100:.2f}%\")"
   ]
  },
  {
   "cell_type": "code",
   "execution_count": null,
   "metadata": {
    "execution": {
     "iopub.execute_input": "2024-11-11T14:21:44.292790Z",
     "iopub.status.busy": "2024-11-11T14:21:44.292401Z",
     "iopub.status.idle": "2024-11-11T14:21:44.305063Z",
     "shell.execute_reply": "2024-11-11T14:21:44.304126Z",
     "shell.execute_reply.started": "2024-11-11T14:21:44.292746Z"
    },
    "trusted": true
   },
   "outputs": [],
   "source": [
    "y_acc = y_test[y_pred != y_test]\n",
    "pd.Series(y_acc).value_counts()"
   ]
  },
  {
   "cell_type": "code",
   "execution_count": null,
   "metadata": {
    "execution": {
     "iopub.execute_input": "2024-11-11T14:21:44.306598Z",
     "iopub.status.busy": "2024-11-11T14:21:44.306214Z",
     "iopub.status.idle": "2024-11-11T14:21:44.797175Z",
     "shell.execute_reply": "2024-11-11T14:21:44.796322Z",
     "shell.execute_reply.started": "2024-11-11T14:21:44.306550Z"
    },
    "trusted": true
   },
   "outputs": [],
   "source": [
    "# Save model weights to a file\n",
    "model.save(\"sentiment_model.h5\")"
   ]
  }
 ],
 "metadata": {
  "colab": {
   "provenance": []
  },
  "kaggle": {
   "accelerator": "gpu",
   "dataSources": [
    {
     "datasetId": 4203189,
     "sourceId": 7253951,
     "sourceType": "datasetVersion"
    }
   ],
   "dockerImageVersionId": 30786,
   "isGpuEnabled": true,
   "isInternetEnabled": true,
   "language": "python",
   "sourceType": "notebook"
  },
  "kernelspec": {
   "display_name": "Python 3",
   "language": "python",
   "name": "python3"
  },
  "language_info": {
   "codemirror_mode": {
    "name": "ipython",
    "version": 3
   },
   "file_extension": ".py",
   "mimetype": "text/x-python",
   "name": "python",
   "nbconvert_exporter": "python",
   "pygments_lexer": "ipython3",
   "version": "3.11.9"
  }
 },
 "nbformat": 4,
 "nbformat_minor": 4
}
